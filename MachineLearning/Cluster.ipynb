{
 "cells": [
  {
   "cell_type": "code",
   "execution_count": 190,
   "metadata": {},
   "outputs": [],
   "source": [
    "import pandas as pd\n",
    "import numpy as np\n",
    "from sklearn.preprocessing import LabelEncoder, StandardScaler,OneHotEncoder\n",
    "from sklearn.decomposition import PCA\n",
    "from sklearn.cluster import KMeans, DBSCAN, AgglomerativeClustering,Birch,OPTICS\n",
    "from sklearn.metrics import silhouette_score, davies_bouldin_score, calinski_harabasz_score\n",
    "import matplotlib.pyplot as plt\n",
    "import pyodbc\n",
    "import os"
   ]
  },
  {
   "cell_type": "code",
   "execution_count": 191,
   "metadata": {},
   "outputs": [],
   "source": [
    "# Connection String\n",
    "serverName = \"datasolve.database.windows.net\" \n",
    "databaseName = \"DataSolveDB\"\n",
    "username = \"sqladmin\"\n",
    "password = \"AlfaBravo2024\""
   ]
  },
  {
   "cell_type": "code",
   "execution_count": 192,
   "metadata": {},
   "outputs": [],
   "source": [
    "# Make the conncection to our Server\n",
    "\n",
    "connection_string = f'DRIVER={{SQL Server}};SERVER='+serverName+';DATABASE='+databaseName+';UID='+username+';PWD='+ password\n",
    "\n",
    "cnxn = pyodbc.connect(connection_string)\n",
    "cursor = cnxn.cursor()"
   ]
  },
  {
   "cell_type": "code",
   "execution_count": 193,
   "metadata": {},
   "outputs": [
    {
     "name": "stderr",
     "output_type": "stream",
     "text": [
      "C:\\Users\\IreneDeNevi\\AppData\\Local\\Temp\\ipykernel_22476\\3213978097.py:1: UserWarning: pandas only supports SQLAlchemy connectable (engine/connection) or database string URI or sqlite3 DBAPI2 connection. Other DBAPI2 objects are not tested. Please consider using SQLAlchemy.\n",
      "  df = pd.read_sql_query(\"select * from ml.Death_GHDX\",con=cnxn)\n"
     ]
    },
    {
     "data": {
      "text/html": [
       "<div>\n",
       "<style scoped>\n",
       "    .dataframe tbody tr th:only-of-type {\n",
       "        vertical-align: middle;\n",
       "    }\n",
       "\n",
       "    .dataframe tbody tr th {\n",
       "        vertical-align: top;\n",
       "    }\n",
       "\n",
       "    .dataframe thead th {\n",
       "        text-align: right;\n",
       "    }\n",
       "</style>\n",
       "<table border=\"1\" class=\"dataframe\">\n",
       "  <thead>\n",
       "    <tr style=\"text-align: right;\">\n",
       "      <th></th>\n",
       "      <th>cluster_sdi</th>\n",
       "      <th>Risk</th>\n",
       "      <th>Val</th>\n",
       "      <th>location</th>\n",
       "      <th>year</th>\n",
       "      <th>SDI</th>\n",
       "    </tr>\n",
       "  </thead>\n",
       "  <tbody>\n",
       "    <tr>\n",
       "      <th>0</th>\n",
       "      <td>Low</td>\n",
       "      <td>Tobacco</td>\n",
       "      <td>0.245127</td>\n",
       "      <td>China</td>\n",
       "      <td>1990</td>\n",
       "      <td>0.433</td>\n",
       "    </tr>\n",
       "    <tr>\n",
       "      <th>1</th>\n",
       "      <td>Low</td>\n",
       "      <td>Alcohol use</td>\n",
       "      <td>0.102353</td>\n",
       "      <td>China</td>\n",
       "      <td>1990</td>\n",
       "      <td>0.433</td>\n",
       "    </tr>\n",
       "    <tr>\n",
       "      <th>2</th>\n",
       "      <td>Low</td>\n",
       "      <td>Metabolic risks</td>\n",
       "      <td>0.484631</td>\n",
       "      <td>China</td>\n",
       "      <td>1990</td>\n",
       "      <td>0.433</td>\n",
       "    </tr>\n",
       "    <tr>\n",
       "      <th>3</th>\n",
       "      <td>Low</td>\n",
       "      <td>Dietary risks</td>\n",
       "      <td>0.144456</td>\n",
       "      <td>China</td>\n",
       "      <td>1990</td>\n",
       "      <td>0.433</td>\n",
       "    </tr>\n",
       "    <tr>\n",
       "      <th>4</th>\n",
       "      <td>Low</td>\n",
       "      <td>Low physical activity</td>\n",
       "      <td>0.045454</td>\n",
       "      <td>China</td>\n",
       "      <td>1990</td>\n",
       "      <td>0.433</td>\n",
       "    </tr>\n",
       "    <tr>\n",
       "      <th>...</th>\n",
       "      <td>...</td>\n",
       "      <td>...</td>\n",
       "      <td>...</td>\n",
       "      <td>...</td>\n",
       "      <td>...</td>\n",
       "      <td>...</td>\n",
       "    </tr>\n",
       "    <tr>\n",
       "      <th>30895</th>\n",
       "      <td>Low</td>\n",
       "      <td>Tobacco</td>\n",
       "      <td>0.163817</td>\n",
       "      <td>Sudan</td>\n",
       "      <td>2019</td>\n",
       "      <td>0.515</td>\n",
       "    </tr>\n",
       "    <tr>\n",
       "      <th>30896</th>\n",
       "      <td>Low</td>\n",
       "      <td>Alcohol use</td>\n",
       "      <td>0.002127</td>\n",
       "      <td>Sudan</td>\n",
       "      <td>2019</td>\n",
       "      <td>0.515</td>\n",
       "    </tr>\n",
       "    <tr>\n",
       "      <th>30897</th>\n",
       "      <td>Low</td>\n",
       "      <td>Metabolic risks</td>\n",
       "      <td>0.712675</td>\n",
       "      <td>Sudan</td>\n",
       "      <td>2019</td>\n",
       "      <td>0.515</td>\n",
       "    </tr>\n",
       "    <tr>\n",
       "      <th>30898</th>\n",
       "      <td>Low</td>\n",
       "      <td>Dietary risks</td>\n",
       "      <td>0.107153</td>\n",
       "      <td>Sudan</td>\n",
       "      <td>2019</td>\n",
       "      <td>0.515</td>\n",
       "    </tr>\n",
       "    <tr>\n",
       "      <th>30899</th>\n",
       "      <td>Low</td>\n",
       "      <td>Low physical activity</td>\n",
       "      <td>0.233065</td>\n",
       "      <td>Sudan</td>\n",
       "      <td>2019</td>\n",
       "      <td>0.515</td>\n",
       "    </tr>\n",
       "  </tbody>\n",
       "</table>\n",
       "<p>30900 rows × 6 columns</p>\n",
       "</div>"
      ],
      "text/plain": [
       "      cluster_sdi                   Risk       Val location  year    SDI\n",
       "0             Low                Tobacco  0.245127    China  1990  0.433\n",
       "1             Low            Alcohol use  0.102353    China  1990  0.433\n",
       "2             Low        Metabolic risks  0.484631    China  1990  0.433\n",
       "3             Low          Dietary risks  0.144456    China  1990  0.433\n",
       "4             Low  Low physical activity  0.045454    China  1990  0.433\n",
       "...           ...                    ...       ...      ...   ...    ...\n",
       "30895         Low                Tobacco  0.163817    Sudan  2019  0.515\n",
       "30896         Low            Alcohol use  0.002127    Sudan  2019  0.515\n",
       "30897         Low        Metabolic risks  0.712675    Sudan  2019  0.515\n",
       "30898         Low          Dietary risks  0.107153    Sudan  2019  0.515\n",
       "30899         Low  Low physical activity  0.233065    Sudan  2019  0.515\n",
       "\n",
       "[30900 rows x 6 columns]"
      ]
     },
     "execution_count": 193,
     "metadata": {},
     "output_type": "execute_result"
    }
   ],
   "source": [
    "df = pd.read_sql_query(\"select * from ml.Death_GHDX\",con=cnxn)\n",
    "df"
   ]
  },
  {
   "cell_type": "code",
   "execution_count": 194,
   "metadata": {},
   "outputs": [
    {
     "data": {
      "text/plain": [
       "(30900, 6)"
      ]
     },
     "execution_count": 194,
     "metadata": {},
     "output_type": "execute_result"
    }
   ],
   "source": [
    "df.shape"
   ]
  },
  {
   "cell_type": "code",
   "execution_count": 197,
   "metadata": {},
   "outputs": [],
   "source": [
    "categorical_features = ['location','Risk','cluster_sdi']\n",
    "numerical_features = []"
   ]
  },
  {
   "cell_type": "code",
   "execution_count": 198,
   "metadata": {},
   "outputs": [],
   "source": [
    "label_encoder = LabelEncoder()\n",
    "for feature in categorical_features:\n",
    "    df[feature] = label_encoder.fit_transform(df[feature])\n",
    "\n",
    "# Extract fe1atures for clustering\n",
    "X = df[numerical_features + categorical_features ]\n",
    "\n",
    "# Standardize the numerical features\n",
    "scaler = StandardScaler()\n",
    "X_scaled = scaler.fit_transform(X)"
   ]
  },
  {
   "cell_type": "code",
   "execution_count": 199,
   "metadata": {},
   "outputs": [],
   "source": [
    "#Function to perform Clustering and scores\n",
    "def perform_clustering(cluster_model, X):\n",
    "    labels = cluster_model.fit_predict(X)\n",
    "    df['Cluster'] = labels\n",
    "    silhouette_score_value = silhouette_score(X, labels)\n",
    "    davies_bouldin_index = davies_bouldin_score(X, labels)\n",
    "    calinski_harabasz_index = calinski_harabasz_score(X, labels)\n",
    "    return silhouette_score_value, davies_bouldin_index, calinski_harabasz_index, labels"
   ]
  },
  {
   "cell_type": "code",
   "execution_count": 200,
   "metadata": {},
   "outputs": [],
   "source": [
    "# Function to perform PCA for dimensionality reduction\n",
    "def perform_pca(X):\n",
    "    pca = PCA(n_components=2)\n",
    "    X_pca = pca.fit_transform(X)\n",
    "    return X_pca    # visualizing high-dimensional data in a 2D space"
   ]
  },
  {
   "cell_type": "code",
   "execution_count": 201,
   "metadata": {},
   "outputs": [],
   "source": [
    "# Function to plot clusters\n",
    "def plot_clusters(X, labels, title, method_name):\n",
    "    unique_labels = np.unique(labels)\n",
    "    scatter = plt.scatter(X[:, 0], X[:, 1], c=labels, cmap='viridis', edgecolors='k', s=50)\n",
    "    \n",
    "    # Create a legend\n",
    "    handles = [plt.Line2D([0], [0], marker='o', color='w', markerfacecolor=scatter.cmap(scatter.norm(label)), markersize=8, label=f'Cluster {label}') for label in unique_labels]\n",
    "    plt.legend(handles=handles, title='Clusters', loc='upper right')\n",
    "    \n",
    "    plt.title(f'{method_name} Clustering')\n",
    "    \n",
    "\n",
    "    return plt.gcf()"
   ]
  },
  {
   "cell_type": "code",
   "execution_count": 202,
   "metadata": {},
   "outputs": [],
   "source": [
    "# Dictionary of clustering methods\n",
    "clustering_methods = {\n",
    "    'K-means': KMeans(n_clusters=5, random_state=42, n_init=\"auto\"),\n",
    "    'Hierarchical': AgglomerativeClustering(n_clusters=5, metric='euclidean'),\n",
    "    'DBSCAN': DBSCAN(eps=0.5, min_samples=5, metric='euclidean', metric_params=None, algorithm='auto', leaf_size=30, p=None, n_jobs=None),\n",
    "    'Birch': Birch(),\n",
    "    'OPTICS': OPTICS(min_samples=5, xi=0.05)\n",
    "}"
   ]
  },
  {
   "cell_type": "code",
   "execution_count": 203,
   "metadata": {},
   "outputs": [
    {
     "name": "stderr",
     "output_type": "stream",
     "text": [
      "C:\\Users\\IreneDeNevi\\AppData\\Local\\Packages\\PythonSoftwareFoundation.Python.3.10_qbz5n2kfra8p0\\LocalCache\\local-packages\\Python310\\site-packages\\sklearn\\cluster\\_optics.py:932: RuntimeWarning: divide by zero encountered in divide\n",
      "  ratio = reachability_plot[:-1] / reachability_plot[1:]\n"
     ]
    }
   ],
   "source": [
    "cluster_scores = {'Method': [], 'Silhouette Score': [], 'Davies-Bouldin Index': [], 'Calinski-Harabasz Index': []}\n",
    "\n",
    "\n",
    "if not os.path.exists('Plots'):\n",
    "    os.makedirs('Plots')\n",
    "\n",
    "for method_name, cluster_model in clustering_methods.items():\n",
    "    silhouette_score_value, davies_bouldin_index, calinski_harabasz_index, labels = perform_clustering(cluster_model, X_scaled)\n",
    "    \n",
    "    categorical_info = ', '.join(categorical_features)\n",
    "    numerical_info = ', '.join(numerical_features)\n",
    "    title = f'{method_name} Clustering\\nCategorical Features: {categorical_info}\\nNumerical Features: {numerical_info}'\n",
    "    fig = plot_clusters(perform_pca(X_scaled), labels, title, method_name)\n",
    "    fig.savefig(f'Plots/{method_name}_{categorical_info}_{numerical_info}_Clustering_Plot.png')\n",
    "    plt.close(fig)\n",
    "    \n",
    "    # Save scores\n",
    "    cluster_scores['Method'].append(method_name)\n",
    "    cluster_scores['Silhouette Score'].append(silhouette_score_value)\n",
    "    cluster_scores['Davies-Bouldin Index'].append(davies_bouldin_index)\n",
    "    cluster_scores['Calinski-Harabasz Index'].append(calinski_harabasz_index)"
   ]
  },
  {
   "cell_type": "code",
   "execution_count": 204,
   "metadata": {},
   "outputs": [],
   "source": [
    "#Save the results\n",
    "\n",
    "scores_df = pd.DataFrame(cluster_scores)\n",
    "current_directory = os.getcwd()\n",
    "\n",
    "categorical_names = '_'.join(categorical_features)\n",
    "numerical_names = '_'.join(numerical_features)\n",
    "csv_file_name = f'scoresCluster_{categorical_names}_{numerical_names}.csv'\n",
    "\n",
    "\n",
    "score_folder = os.path.join(current_directory, 'ScoreCSV')\n",
    "if not os.path.exists(score_folder):\n",
    "    os.makedirs(score_folder)\n",
    "\n",
    "csv_file_path = os.path.join(score_folder, csv_file_name)\n",
    "scores_df.to_csv(csv_file_path, index=False)\n"
   ]
  },
  {
   "cell_type": "code",
   "execution_count": 205,
   "metadata": {},
   "outputs": [],
   "source": [
    "cnxn.close()"
   ]
  }
 ],
 "metadata": {
  "kernelspec": {
   "display_name": "Python 3",
   "language": "python",
   "name": "python3"
  },
  "language_info": {
   "codemirror_mode": {
    "name": "ipython",
    "version": 3
   },
   "file_extension": ".py",
   "mimetype": "text/x-python",
   "name": "python",
   "nbconvert_exporter": "python",
   "pygments_lexer": "ipython3",
   "version": "3.10.11"
  }
 },
 "nbformat": 4,
 "nbformat_minor": 2
}
